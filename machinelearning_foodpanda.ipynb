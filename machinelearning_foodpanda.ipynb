{
 "cells": [
  {
   "cell_type": "markdown",
   "metadata": {},
   "source": [
    "# Kaggle challenge: Give Me Some Credit\n",
    "\n",
    "https://www.kaggle.com/c/GiveMeSomeCredit\n",
    "### 1) Objective: \n",
    "Improve on the state of the art in credit scoring by predicting the probability that somebody will experience financial distress in the next two years.\n",
    "### 2) Please submit your code (Python + a github repo)\n",
    "### 3) Answer the following questions:\n",
    "- Tell us how you validate your model, which, and why you chose such evaluation technique(s).\n",
    "- What is AUC? Why do you think AUC was used as the evaluation metric for such a problem? What are other metrics that you think would also be suitable for this competition?\n",
    "- What insight(s) do you have from your model? What is your preliminary analysis of the given dataset?\n",
    "- Can you get into the top 100 of the private leaderboard, or even higher?"
   ]
  },
  {
   "cell_type": "code",
   "execution_count": 130,
   "metadata": {},
   "outputs": [
    {
     "name": "stdout",
     "output_type": "stream",
     "text": [
      "3.8.5\n"
     ]
    }
   ],
   "source": [
    "from platform import python_version\n",
    "print(python_version())"
   ]
  },
  {
   "cell_type": "code",
   "execution_count": 131,
   "metadata": {},
   "outputs": [],
   "source": [
    "#import libraries\n",
    "import datetime\n",
    "import matplotlib.pyplot as plt\n",
    "%matplotlib inline\n",
    "import numpy as np\n",
    "import pandas as pd\n",
    "import seaborn as sns\n",
    "import time\n",
    "\n",
    "from sklearn.ensemble import RandomForestClassifier,VotingClassifier\n",
    "from sklearn.linear_model import LogisticRegression\n",
    "from sklearn.model_selection import train_test_split\n",
    "from sklearn.ensemble import RandomForestClassifier\n",
    "from sklearn.multioutput import MultiOutputClassifier\n",
    "from sklearn.ensemble import GradientBoostingClassifier\n",
    "from sklearn.neural_network import MLPClassifier\n",
    "from sklearn.svm import SVC\n",
    "from sklearn.naive_bayes import GaussianNB\n",
    "import xgboost\n",
    "import lightgbm\n",
    "\n",
    "from sklearn.metrics import roc_auc_score, precision_recall_curve, roc_curve\n",
    "from sklearn.metrics import accuracy_score, precision_score, recall_score, f1_score\n",
    "# from sklearn.metrics import classification_report\n",
    "from sklearn.metrics import roc_auc_score, plot_confusion_matrix, auc\n",
    "from sklearn.model_selection import train_test_split\n",
    "from sklearn.model_selection import StratifiedKFold\n",
    "from sklearn.base import clone"
   ]
  },
  {
   "cell_type": "code",
   "execution_count": 132,
   "metadata": {},
   "outputs": [],
   "source": [
    "notebook_path = os.path.abspath(\"machinelearning_foodpanda.ipynb\")\n",
    "train_csv = os.path.join(os.path.dirname(notebook_path), 'GiveMeSomeCredit/cs-training.csv')\n",
    "test_csv = os.path.join(os.path.dirname(notebook_path), 'GiveMeSomeCredit/cs-test.csv')\n",
    "sample_test = os.path.join(os.path.dirname(notebook_path), 'GiveMeSomeCredit/sampleEntry.csv')"
   ]
  },
  {
   "cell_type": "code",
   "execution_count": 133,
   "metadata": {},
   "outputs": [],
   "source": [
    "cols = ['SeriousDlqin2yrs',\n",
    "       'RevolvingUtilizationOfUnsecuredLines', 'age',\n",
    "       'NumberOfTime30-59DaysPastDueNotWorse', 'DebtRatio', 'MonthlyIncome',\n",
    "       'NumberOfOpenCreditLinesAndLoans', 'NumberOfTimes90DaysLate',\n",
    "       'NumberRealEstateLoansOrLines', 'NumberOfTime60-89DaysPastDueNotWorse',\n",
    "       'NumberOfDependents']"
   ]
  },
  {
   "cell_type": "code",
   "execution_count": 184,
   "metadata": {},
   "outputs": [],
   "source": [
    "# read data\n",
    "data = pd.read_csv(train_csv, usecols=cols)\n",
    "test = pd.read_csv(test_csv, usecols=[c for c in cols if c != 'SeriousDlqin2yrs'])\n",
    "sampleEntry = pd.read_csv(sample_test, index_col=False)"
   ]
  },
  {
   "cell_type": "markdown",
   "metadata": {},
   "source": [
    "### 1) EDA"
   ]
  },
  {
   "cell_type": "code",
   "execution_count": 185,
   "metadata": {},
   "outputs": [
    {
     "data": {
      "text/html": [
       "<div>\n",
       "<style scoped>\n",
       "    .dataframe tbody tr th:only-of-type {\n",
       "        vertical-align: middle;\n",
       "    }\n",
       "\n",
       "    .dataframe tbody tr th {\n",
       "        vertical-align: top;\n",
       "    }\n",
       "\n",
       "    .dataframe thead th {\n",
       "        text-align: right;\n",
       "    }\n",
       "</style>\n",
       "<table border=\"1\" class=\"dataframe\">\n",
       "  <thead>\n",
       "    <tr style=\"text-align: right;\">\n",
       "      <th></th>\n",
       "      <th>SeriousDlqin2yrs</th>\n",
       "      <th>RevolvingUtilizationOfUnsecuredLines</th>\n",
       "      <th>age</th>\n",
       "      <th>NumberOfTime30-59DaysPastDueNotWorse</th>\n",
       "      <th>DebtRatio</th>\n",
       "      <th>MonthlyIncome</th>\n",
       "      <th>NumberOfOpenCreditLinesAndLoans</th>\n",
       "      <th>NumberOfTimes90DaysLate</th>\n",
       "      <th>NumberRealEstateLoansOrLines</th>\n",
       "      <th>NumberOfTime60-89DaysPastDueNotWorse</th>\n",
       "      <th>NumberOfDependents</th>\n",
       "    </tr>\n",
       "  </thead>\n",
       "  <tbody>\n",
       "    <tr>\n",
       "      <th>0</th>\n",
       "      <td>1</td>\n",
       "      <td>0.766127</td>\n",
       "      <td>45</td>\n",
       "      <td>2</td>\n",
       "      <td>0.802982</td>\n",
       "      <td>9120.0</td>\n",
       "      <td>13</td>\n",
       "      <td>0</td>\n",
       "      <td>6</td>\n",
       "      <td>0</td>\n",
       "      <td>2.0</td>\n",
       "    </tr>\n",
       "    <tr>\n",
       "      <th>1</th>\n",
       "      <td>0</td>\n",
       "      <td>0.957151</td>\n",
       "      <td>40</td>\n",
       "      <td>0</td>\n",
       "      <td>0.121876</td>\n",
       "      <td>2600.0</td>\n",
       "      <td>4</td>\n",
       "      <td>0</td>\n",
       "      <td>0</td>\n",
       "      <td>0</td>\n",
       "      <td>1.0</td>\n",
       "    </tr>\n",
       "  </tbody>\n",
       "</table>\n",
       "</div>"
      ],
      "text/plain": [
       "   SeriousDlqin2yrs  RevolvingUtilizationOfUnsecuredLines  age  \\\n",
       "0                 1                              0.766127   45   \n",
       "1                 0                              0.957151   40   \n",
       "\n",
       "   NumberOfTime30-59DaysPastDueNotWorse  DebtRatio  MonthlyIncome  \\\n",
       "0                                     2   0.802982         9120.0   \n",
       "1                                     0   0.121876         2600.0   \n",
       "\n",
       "   NumberOfOpenCreditLinesAndLoans  NumberOfTimes90DaysLate  \\\n",
       "0                               13                        0   \n",
       "1                                4                        0   \n",
       "\n",
       "   NumberRealEstateLoansOrLines  NumberOfTime60-89DaysPastDueNotWorse  \\\n",
       "0                             6                                     0   \n",
       "1                             0                                     0   \n",
       "\n",
       "   NumberOfDependents  \n",
       "0                 2.0  \n",
       "1                 1.0  "
      ]
     },
     "execution_count": 185,
     "metadata": {},
     "output_type": "execute_result"
    }
   ],
   "source": [
    "data.head(2)"
   ]
  },
  {
   "cell_type": "code",
   "execution_count": 186,
   "metadata": {},
   "outputs": [
    {
     "data": {
      "text/plain": [
       "SeriousDlqin2yrs                          int64\n",
       "RevolvingUtilizationOfUnsecuredLines    float64\n",
       "age                                       int64\n",
       "NumberOfTime30-59DaysPastDueNotWorse      int64\n",
       "DebtRatio                               float64\n",
       "MonthlyIncome                           float64\n",
       "NumberOfOpenCreditLinesAndLoans           int64\n",
       "NumberOfTimes90DaysLate                   int64\n",
       "NumberRealEstateLoansOrLines              int64\n",
       "NumberOfTime60-89DaysPastDueNotWorse      int64\n",
       "NumberOfDependents                      float64\n",
       "dtype: object"
      ]
     },
     "execution_count": 186,
     "metadata": {},
     "output_type": "execute_result"
    }
   ],
   "source": [
    "data.dtypes"
   ]
  },
  {
   "cell_type": "code",
   "execution_count": 187,
   "metadata": {},
   "outputs": [
    {
     "data": {
      "text/plain": [
       "(150000, 11)"
      ]
     },
     "execution_count": 187,
     "metadata": {},
     "output_type": "execute_result"
    }
   ],
   "source": [
    "data.shape"
   ]
  },
  {
   "cell_type": "code",
   "execution_count": 188,
   "metadata": {},
   "outputs": [
    {
     "data": {
      "text/plain": [
       "Index(['SeriousDlqin2yrs', 'RevolvingUtilizationOfUnsecuredLines', 'age',\n",
       "       'NumberOfTime30-59DaysPastDueNotWorse', 'DebtRatio', 'MonthlyIncome',\n",
       "       'NumberOfOpenCreditLinesAndLoans', 'NumberOfTimes90DaysLate',\n",
       "       'NumberRealEstateLoansOrLines', 'NumberOfTime60-89DaysPastDueNotWorse',\n",
       "       'NumberOfDependents'],\n",
       "      dtype='object')"
      ]
     },
     "execution_count": 188,
     "metadata": {},
     "output_type": "execute_result"
    }
   ],
   "source": [
    "data.columns"
   ]
  },
  {
   "cell_type": "markdown",
   "metadata": {},
   "source": [
    "#### a) Missing values"
   ]
  },
  {
   "cell_type": "code",
   "execution_count": 189,
   "metadata": {},
   "outputs": [
    {
     "data": {
      "text/plain": [
       "SeriousDlqin2yrs                            0\n",
       "RevolvingUtilizationOfUnsecuredLines        0\n",
       "age                                         0\n",
       "NumberOfTime30-59DaysPastDueNotWorse        0\n",
       "DebtRatio                                   0\n",
       "MonthlyIncome                           29731\n",
       "NumberOfOpenCreditLinesAndLoans             0\n",
       "NumberOfTimes90DaysLate                     0\n",
       "NumberRealEstateLoansOrLines                0\n",
       "NumberOfTime60-89DaysPastDueNotWorse        0\n",
       "NumberOfDependents                       3924\n",
       "dtype: int64"
      ]
     },
     "execution_count": 189,
     "metadata": {},
     "output_type": "execute_result"
    }
   ],
   "source": [
    "data.isnull().sum()"
   ]
  },
  {
   "cell_type": "code",
   "execution_count": 190,
   "metadata": {},
   "outputs": [
    {
     "data": {
      "text/plain": [
       "SeriousDlqin2yrs                         0.0\n",
       "RevolvingUtilizationOfUnsecuredLines     0.0\n",
       "age                                      0.0\n",
       "NumberOfTime30-59DaysPastDueNotWorse     0.0\n",
       "DebtRatio                                0.0\n",
       "MonthlyIncome                           19.8\n",
       "NumberOfOpenCreditLinesAndLoans          0.0\n",
       "NumberOfTimes90DaysLate                  0.0\n",
       "NumberRealEstateLoansOrLines             0.0\n",
       "NumberOfTime60-89DaysPastDueNotWorse     0.0\n",
       "NumberOfDependents                       2.6\n",
       "dtype: float64"
      ]
     },
     "execution_count": 190,
     "metadata": {},
     "output_type": "execute_result"
    }
   ],
   "source": [
    "#percentage of missing values by column\n",
    "round(data.isnull().sum()/len(data)*100,1)"
   ]
  },
  {
   "cell_type": "markdown",
   "metadata": {},
   "source": [
    "MonthlyIncome and NumberOfDependents have 29731 (19.82%) and 3924 (2.61%) null values respectively"
   ]
  },
  {
   "cell_type": "code",
   "execution_count": 191,
   "metadata": {},
   "outputs": [
    {
     "data": {
      "text/plain": [
       "3924"
      ]
     },
     "execution_count": 191,
     "metadata": {},
     "output_type": "execute_result"
    }
   ],
   "source": [
    "# records that have ore than 1 missing values\n",
    "len(data.loc[data.isnull().sum(axis=1)>1])"
   ]
  },
  {
   "cell_type": "code",
   "execution_count": 192,
   "metadata": {},
   "outputs": [
    {
     "data": {
      "text/html": [
       "<div>\n",
       "<style scoped>\n",
       "    .dataframe tbody tr th:only-of-type {\n",
       "        vertical-align: middle;\n",
       "    }\n",
       "\n",
       "    .dataframe tbody tr th {\n",
       "        vertical-align: top;\n",
       "    }\n",
       "\n",
       "    .dataframe thead th {\n",
       "        text-align: right;\n",
       "    }\n",
       "</style>\n",
       "<table border=\"1\" class=\"dataframe\">\n",
       "  <thead>\n",
       "    <tr style=\"text-align: right;\">\n",
       "      <th></th>\n",
       "      <th>SeriousDlqin2yrs</th>\n",
       "      <th>RevolvingUtilizationOfUnsecuredLines</th>\n",
       "      <th>age</th>\n",
       "      <th>NumberOfTime30-59DaysPastDueNotWorse</th>\n",
       "      <th>DebtRatio</th>\n",
       "      <th>MonthlyIncome</th>\n",
       "      <th>NumberOfOpenCreditLinesAndLoans</th>\n",
       "      <th>NumberOfTimes90DaysLate</th>\n",
       "      <th>NumberRealEstateLoansOrLines</th>\n",
       "      <th>NumberOfTime60-89DaysPastDueNotWorse</th>\n",
       "      <th>NumberOfDependents</th>\n",
       "    </tr>\n",
       "  </thead>\n",
       "  <tbody>\n",
       "    <tr>\n",
       "      <th>count</th>\n",
       "      <td>150000.000000</td>\n",
       "      <td>150000.000000</td>\n",
       "      <td>150000.000000</td>\n",
       "      <td>150000.000000</td>\n",
       "      <td>150000.000000</td>\n",
       "      <td>1.202690e+05</td>\n",
       "      <td>150000.000000</td>\n",
       "      <td>150000.000000</td>\n",
       "      <td>150000.000000</td>\n",
       "      <td>150000.000000</td>\n",
       "      <td>146076.000000</td>\n",
       "    </tr>\n",
       "    <tr>\n",
       "      <th>mean</th>\n",
       "      <td>0.066840</td>\n",
       "      <td>6.048438</td>\n",
       "      <td>52.295207</td>\n",
       "      <td>0.421033</td>\n",
       "      <td>353.005076</td>\n",
       "      <td>6.670221e+03</td>\n",
       "      <td>8.452760</td>\n",
       "      <td>0.265973</td>\n",
       "      <td>1.018240</td>\n",
       "      <td>0.240387</td>\n",
       "      <td>0.757222</td>\n",
       "    </tr>\n",
       "    <tr>\n",
       "      <th>std</th>\n",
       "      <td>0.249746</td>\n",
       "      <td>249.755371</td>\n",
       "      <td>14.771866</td>\n",
       "      <td>4.192781</td>\n",
       "      <td>2037.818523</td>\n",
       "      <td>1.438467e+04</td>\n",
       "      <td>5.145951</td>\n",
       "      <td>4.169304</td>\n",
       "      <td>1.129771</td>\n",
       "      <td>4.155179</td>\n",
       "      <td>1.115086</td>\n",
       "    </tr>\n",
       "    <tr>\n",
       "      <th>min</th>\n",
       "      <td>0.000000</td>\n",
       "      <td>0.000000</td>\n",
       "      <td>0.000000</td>\n",
       "      <td>0.000000</td>\n",
       "      <td>0.000000</td>\n",
       "      <td>0.000000e+00</td>\n",
       "      <td>0.000000</td>\n",
       "      <td>0.000000</td>\n",
       "      <td>0.000000</td>\n",
       "      <td>0.000000</td>\n",
       "      <td>0.000000</td>\n",
       "    </tr>\n",
       "    <tr>\n",
       "      <th>25%</th>\n",
       "      <td>0.000000</td>\n",
       "      <td>0.029867</td>\n",
       "      <td>41.000000</td>\n",
       "      <td>0.000000</td>\n",
       "      <td>0.175074</td>\n",
       "      <td>3.400000e+03</td>\n",
       "      <td>5.000000</td>\n",
       "      <td>0.000000</td>\n",
       "      <td>0.000000</td>\n",
       "      <td>0.000000</td>\n",
       "      <td>0.000000</td>\n",
       "    </tr>\n",
       "    <tr>\n",
       "      <th>50%</th>\n",
       "      <td>0.000000</td>\n",
       "      <td>0.154181</td>\n",
       "      <td>52.000000</td>\n",
       "      <td>0.000000</td>\n",
       "      <td>0.366508</td>\n",
       "      <td>5.400000e+03</td>\n",
       "      <td>8.000000</td>\n",
       "      <td>0.000000</td>\n",
       "      <td>1.000000</td>\n",
       "      <td>0.000000</td>\n",
       "      <td>0.000000</td>\n",
       "    </tr>\n",
       "    <tr>\n",
       "      <th>75%</th>\n",
       "      <td>0.000000</td>\n",
       "      <td>0.559046</td>\n",
       "      <td>63.000000</td>\n",
       "      <td>0.000000</td>\n",
       "      <td>0.868254</td>\n",
       "      <td>8.249000e+03</td>\n",
       "      <td>11.000000</td>\n",
       "      <td>0.000000</td>\n",
       "      <td>2.000000</td>\n",
       "      <td>0.000000</td>\n",
       "      <td>1.000000</td>\n",
       "    </tr>\n",
       "    <tr>\n",
       "      <th>max</th>\n",
       "      <td>1.000000</td>\n",
       "      <td>50708.000000</td>\n",
       "      <td>109.000000</td>\n",
       "      <td>98.000000</td>\n",
       "      <td>329664.000000</td>\n",
       "      <td>3.008750e+06</td>\n",
       "      <td>58.000000</td>\n",
       "      <td>98.000000</td>\n",
       "      <td>54.000000</td>\n",
       "      <td>98.000000</td>\n",
       "      <td>20.000000</td>\n",
       "    </tr>\n",
       "  </tbody>\n",
       "</table>\n",
       "</div>"
      ],
      "text/plain": [
       "       SeriousDlqin2yrs  RevolvingUtilizationOfUnsecuredLines            age  \\\n",
       "count     150000.000000                         150000.000000  150000.000000   \n",
       "mean           0.066840                              6.048438      52.295207   \n",
       "std            0.249746                            249.755371      14.771866   \n",
       "min            0.000000                              0.000000       0.000000   \n",
       "25%            0.000000                              0.029867      41.000000   \n",
       "50%            0.000000                              0.154181      52.000000   \n",
       "75%            0.000000                              0.559046      63.000000   \n",
       "max            1.000000                          50708.000000     109.000000   \n",
       "\n",
       "       NumberOfTime30-59DaysPastDueNotWorse      DebtRatio  MonthlyIncome  \\\n",
       "count                         150000.000000  150000.000000   1.202690e+05   \n",
       "mean                               0.421033     353.005076   6.670221e+03   \n",
       "std                                4.192781    2037.818523   1.438467e+04   \n",
       "min                                0.000000       0.000000   0.000000e+00   \n",
       "25%                                0.000000       0.175074   3.400000e+03   \n",
       "50%                                0.000000       0.366508   5.400000e+03   \n",
       "75%                                0.000000       0.868254   8.249000e+03   \n",
       "max                               98.000000  329664.000000   3.008750e+06   \n",
       "\n",
       "       NumberOfOpenCreditLinesAndLoans  NumberOfTimes90DaysLate  \\\n",
       "count                    150000.000000            150000.000000   \n",
       "mean                          8.452760                 0.265973   \n",
       "std                           5.145951                 4.169304   \n",
       "min                           0.000000                 0.000000   \n",
       "25%                           5.000000                 0.000000   \n",
       "50%                           8.000000                 0.000000   \n",
       "75%                          11.000000                 0.000000   \n",
       "max                          58.000000                98.000000   \n",
       "\n",
       "       NumberRealEstateLoansOrLines  NumberOfTime60-89DaysPastDueNotWorse  \\\n",
       "count                 150000.000000                         150000.000000   \n",
       "mean                       1.018240                              0.240387   \n",
       "std                        1.129771                              4.155179   \n",
       "min                        0.000000                              0.000000   \n",
       "25%                        0.000000                              0.000000   \n",
       "50%                        1.000000                              0.000000   \n",
       "75%                        2.000000                              0.000000   \n",
       "max                       54.000000                             98.000000   \n",
       "\n",
       "       NumberOfDependents  \n",
       "count       146076.000000  \n",
       "mean             0.757222  \n",
       "std              1.115086  \n",
       "min              0.000000  \n",
       "25%              0.000000  \n",
       "50%              0.000000  \n",
       "75%              1.000000  \n",
       "max             20.000000  "
      ]
     },
     "execution_count": 192,
     "metadata": {},
     "output_type": "execute_result"
    }
   ],
   "source": [
    "data.describe()"
   ]
  },
  {
   "cell_type": "markdown",
   "metadata": {},
   "source": [
    "We notice the same maximum value 98 for NumberOfTime30-59DaysPastDueNotWorse, NumberOfTimes90DaysLate and NumberOfTime60-89DaysPastDueNotWorse"
   ]
  },
  {
   "cell_type": "code",
   "execution_count": 193,
   "metadata": {},
   "outputs": [
    {
     "data": {
      "text/plain": [
       "0    139974\n",
       "1     10026\n",
       "Name: SeriousDlqin2yrs, dtype: int64"
      ]
     },
     "execution_count": 193,
     "metadata": {},
     "output_type": "execute_result"
    }
   ],
   "source": [
    "data.SeriousDlqin2yrs.value_counts()"
   ]
  },
  {
   "cell_type": "markdown",
   "metadata": {},
   "source": [
    "This is a binary classification - The data is unbalanced"
   ]
  },
  {
   "cell_type": "markdown",
   "metadata": {},
   "source": [
    "#### b) Visualisation"
   ]
  },
  {
   "cell_type": "markdown",
   "metadata": {},
   "source": [
    "age"
   ]
  },
  {
   "cell_type": "code",
   "execution_count": 144,
   "metadata": {},
   "outputs": [
    {
     "name": "stderr",
     "output_type": "stream",
     "text": [
      "/opt/anaconda3/lib/python3.8/site-packages/seaborn/_decorators.py:36: FutureWarning: Pass the following variable as a keyword arg: x. From version 0.12, the only valid positional argument will be `data`, and passing other arguments without an explicit keyword will result in an error or misinterpretation.\n",
      "  warnings.warn(\n"
     ]
    },
    {
     "data": {
      "text/plain": [
       "<AxesSubplot:xlabel='age'>"
      ]
     },
     "execution_count": 144,
     "metadata": {},
     "output_type": "execute_result"
    },
    {
     "data": {
      "image/png": "[encoded data removed]",
      "text/plain": [
       "<Figure size 576x216 with 1 Axes>"
      ]
     },
     "metadata": {
      "needs_background": "light"
     },
     "output_type": "display_data"
    }
   ],
   "source": [
    "plt.figure(figsize=(8,3))\n",
    "sns.boxplot(data['age'])"
   ]
  },
  {
   "cell_type": "code",
   "execution_count": 145,
   "metadata": {},
   "outputs": [
    {
     "name": "stderr",
     "output_type": "stream",
     "text": [
      "/opt/anaconda3/lib/python3.8/site-packages/seaborn/_decorators.py:36: FutureWarning: Pass the following variable as a keyword arg: x. From version 0.12, the only valid positional argument will be `data`, and passing other arguments without an explicit keyword will result in an error or misinterpretation.\n",
      "  warnings.warn(\n"
     ]
    },
    {
     "data": {
      "text/plain": [
       "<AxesSubplot:xlabel='DebtRatio'>"
      ]
     },
     "execution_count": 145,
     "metadata": {},
     "output_type": "execute_result"
    },
    {
     "data": {
      "image/png": "[encoded data removed]",
      "text/plain": [
       "<Figure size 576x216 with 1 Axes>"
      ]
     },
     "metadata": {
      "needs_background": "light"
     },
     "output_type": "display_data"
    }
   ],
   "source": [
    "plt.figure(figsize=(8,3))\n",
    "sns.boxplot(data['DebtRatio'])"
   ]
  },
  {
   "cell_type": "code",
   "execution_count": 146,
   "metadata": {},
   "outputs": [
    {
     "name": "stderr",
     "output_type": "stream",
     "text": [
      "/opt/anaconda3/lib/python3.8/site-packages/seaborn/_decorators.py:36: FutureWarning: Pass the following variable as a keyword arg: x. From version 0.12, the only valid positional argument will be `data`, and passing other arguments without an explicit keyword will result in an error or misinterpretation.\n",
      "  warnings.warn(\n"
     ]
    },
    {
     "data": {
      "text/plain": [
       "<AxesSubplot:xlabel='NumberOfTime30-59DaysPastDueNotWorse'>"
      ]
     },
     "execution_count": 146,
     "metadata": {},
     "output_type": "execute_result"
    },
    {
     "data": {
      "image/png": "[encoded data removed]",
      "text/plain": [
       "<Figure size 576x216 with 1 Axes>"
      ]
     },
     "metadata": {
      "needs_background": "light"
     },
     "output_type": "display_data"
    }
   ],
   "source": [
    "plt.figure(figsize=(8,3))\n",
    "sns.boxplot(data['NumberOfTime30-59DaysPastDueNotWorse'])"
   ]
  },
  {
   "cell_type": "code",
   "execution_count": 147,
   "metadata": {},
   "outputs": [
    {
     "name": "stderr",
     "output_type": "stream",
     "text": [
      "/opt/anaconda3/lib/python3.8/site-packages/seaborn/_decorators.py:36: FutureWarning: Pass the following variable as a keyword arg: x. From version 0.12, the only valid positional argument will be `data`, and passing other arguments without an explicit keyword will result in an error or misinterpretation.\n",
      "  warnings.warn(\n"
     ]
    },
    {
     "data": {
      "text/plain": [
       "<AxesSubplot:xlabel='NumberOfTime60-89DaysPastDueNotWorse'>"
      ]
     },
     "execution_count": 147,
     "metadata": {},
     "output_type": "execute_result"
    },
    {
     "data": {
      "image/png": "[encoded data removed]",
      "text/plain": [
       "<Figure size 576x216 with 1 Axes>"
      ]
     },
     "metadata": {
      "needs_background": "light"
     },
     "output_type": "display_data"
    }
   ],
   "source": [
    "plt.figure(figsize=(8,3))\n",
    "sns.boxplot(data['NumberOfTime60-89DaysPastDueNotWorse'])"
   ]
  },
  {
   "cell_type": "code",
   "execution_count": 148,
   "metadata": {},
   "outputs": [
    {
     "data": {
      "text/plain": [
       "122"
      ]
     },
     "execution_count": 148,
     "metadata": {},
     "output_type": "execute_result"
    }
   ],
   "source": [
    "len(data.loc[(data['NumberOfTime60-89DaysPastDueNotWorse']>20) & (data['SeriousDlqin2yrs']==0)])"
   ]
  },
  {
   "cell_type": "code",
   "execution_count": 149,
   "metadata": {},
   "outputs": [
    {
     "name": "stderr",
     "output_type": "stream",
     "text": [
      "/opt/anaconda3/lib/python3.8/site-packages/seaborn/_decorators.py:36: FutureWarning: Pass the following variable as a keyword arg: x. From version 0.12, the only valid positional argument will be `data`, and passing other arguments without an explicit keyword will result in an error or misinterpretation.\n",
      "  warnings.warn(\n"
     ]
    },
    {
     "data": {
      "text/plain": [
       "<AxesSubplot:xlabel='NumberOfTimes90DaysLate'>"
      ]
     },
     "execution_count": 149,
     "metadata": {},
     "output_type": "execute_result"
    },
    {
     "data": {
      "image/png": "[encoded data removed]",
      "text/plain": [
       "<Figure size 576x216 with 1 Axes>"
      ]
     },
     "metadata": {
      "needs_background": "light"
     },
     "output_type": "display_data"
    }
   ],
   "source": [
    "plt.figure(figsize=(8,3))\n",
    "sns.boxplot(data['NumberOfTimes90DaysLate'])"
   ]
  },
  {
   "cell_type": "code",
   "execution_count": 150,
   "metadata": {},
   "outputs": [
    {
     "data": {
      "text/plain": [
       "122"
      ]
     },
     "execution_count": 150,
     "metadata": {},
     "output_type": "execute_result"
    }
   ],
   "source": [
    "len(data.loc[(data['NumberOfTimes90DaysLate']>20) & (data['SeriousDlqin2yrs']==0)])"
   ]
  },
  {
   "cell_type": "code",
   "execution_count": 151,
   "metadata": {},
   "outputs": [
    {
     "data": {
      "text/plain": [
       "147"
      ]
     },
     "execution_count": 151,
     "metadata": {},
     "output_type": "execute_result"
    }
   ],
   "source": [
    "len(data.loc[(data['NumberOfTimes90DaysLate']>20) & (data['SeriousDlqin2yrs']==1)])"
   ]
  },
  {
   "cell_type": "code",
   "execution_count": 152,
   "metadata": {},
   "outputs": [
    {
     "data": {
      "text/plain": [
       "Text(0.5, 1.0, 'SeriousDlqin2yrs = 1')"
      ]
     },
     "execution_count": 152,
     "metadata": {},
     "output_type": "execute_result"
    },
    {
     "data": {
      "image/png": "[encoded data removed]",
      "text/plain": [
       "<Figure size 432x288 with 2 Axes>"
      ]
     },
     "metadata": {
      "needs_background": "light"
     },
     "output_type": "display_data"
    }
   ],
   "source": [
    "age_hist = data['age'].hist(by=data['SeriousDlqin2yrs'], bins=40, layout=(2,1))\n",
    "age_hist[0].set_xlim((0,100))\n",
    "age_hist[0].set_title('SeriousDlqin2yrs = 0')\n",
    "age_hist[1].set_xlim((0,100))\n",
    "age_hist[1].set_title('SeriousDlqin2yrs = 1')"
   ]
  },
  {
   "cell_type": "markdown",
   "metadata": {},
   "source": [
    "Features correlation"
   ]
  },
  {
   "cell_type": "code",
   "execution_count": 153,
   "metadata": {},
   "outputs": [
    {
     "data": {
      "text/plain": [
       "<AxesSubplot:>"
      ]
     },
     "execution_count": 153,
     "metadata": {},
     "output_type": "execute_result"
    },
    {
     "data": {
      "image/png": "[encoded data removed]",
      "text/plain": [
       "<Figure size 720x720 with 2 Axes>"
      ]
     },
     "metadata": {
      "needs_background": "light"
     },
     "output_type": "display_data"
    }
   ],
   "source": [
    "corr = data.corr()\n",
    "plt.figure(figsize=(10,10))\n",
    "sns.heatmap(corr, cmap=\"YlGnBu\", annot=True)"
   ]
  },
  {
   "cell_type": "markdown",
   "metadata": {},
   "source": [
    "We notice a high correlation between the features 'NumberOfTime30-59DaysPastDueNotWorse','NumberOfTimes90DaysLate','NumberOfTime60-89DaysPastDueNotWorse'"
   ]
  },
  {
   "cell_type": "markdown",
   "metadata": {},
   "source": [
    "### 2) Preprocessing - Feature engineering"
   ]
  },
  {
   "cell_type": "markdown",
   "metadata": {},
   "source": [
    "remove outliers?\n",
    "It seems this dataset contains a lot of outliers which are big enemies of linear models.\n",
    "It migh also be smart to avoid using correlated features but we will certainly move to algorithms that use boostrap aggregating or boosting methods"
   ]
  },
  {
   "cell_type": "code",
   "execution_count": 194,
   "metadata": {},
   "outputs": [
    {
     "name": "stdout",
     "output_type": "stream",
     "text": [
      "150000\n",
      "149718\n"
     ]
    }
   ],
   "source": [
    "age_idx = data.loc[data['age']>100].index\n",
    "numberofTime_idx = data.loc[data['NumberOfTime60-89DaysPastDueNotWorse']>50].index\n",
    "print(len(data))\n",
    "data = data.drop(numberofTime_idx)\n",
    "data = data.drop(age_idx)\n",
    "print(len(data))"
   ]
  },
  {
   "cell_type": "markdown",
   "metadata": {},
   "source": [
    "### 3) Modelling"
   ]
  },
  {
   "cell_type": "markdown",
   "metadata": {},
   "source": [
    "functions"
   ]
  },
  {
   "cell_type": "code",
   "execution_count": 155,
   "metadata": {},
   "outputs": [],
   "source": [
    "def create_roc_plot(y_true, probs, model):\n",
    "    fpr, tpr, thr = roc_curve(y_true, probs)\n",
    "    # plot the roc curve for the model\n",
    "    plt.plot([0, 1], [0, 1], linestyle='--', label='No Skill')\n",
    "    plt.plot(fpr, tpr, marker='.', label= model)\n",
    "    plt.xlabel('False Positive Rate')\n",
    "    plt.ylabel('True Positive Rate')\n",
    "    plt.legend()\n",
    "    plt.show()"
   ]
  },
  {
   "cell_type": "code",
   "execution_count": 156,
   "metadata": {},
   "outputs": [],
   "source": [
    "data.fillna(-1,inplace = True)"
   ]
  },
  {
   "cell_type": "code",
   "execution_count": 203,
   "metadata": {},
   "outputs": [],
   "source": [
    "train = data.drop([\"SeriousDlqin2yrs\"], axis=1)\n",
    "#label = np.log1p(data[\"SeriousDlqin2yrs\"].values)\n",
    "label = data[\"SeriousDlqin2yrs\"].astype('uint8')\n",
    "X_train, X_test, y_train, y_test = train_test_split(train, label, test_size=.2, stratify = label, random_state=123)"
   ]
  },
  {
   "cell_type": "markdown",
   "metadata": {},
   "source": [
    "a) Baseline"
   ]
  },
  {
   "cell_type": "code",
   "execution_count": 158,
   "metadata": {},
   "outputs": [
    {
     "name": "stderr",
     "output_type": "stream",
     "text": [
      "/opt/anaconda3/lib/python3.8/site-packages/sklearn/linear_model/_logistic.py:762: ConvergenceWarning: lbfgs failed to converge (status=1):\n",
      "STOP: TOTAL NO. of ITERATIONS REACHED LIMIT.\n",
      "\n",
      "Increase the number of iterations (max_iter) or scale the data as shown in:\n",
      "    https://scikit-learn.org/stable/modules/preprocessing.html\n",
      "Please also refer to the documentation for alternative solver options:\n",
      "    https://scikit-learn.org/stable/modules/linear_model.html#logistic-regression\n",
      "  n_iter_i = _check_optimize_result(\n"
     ]
    },
    {
     "name": "stdout",
     "output_type": "stream",
     "text": [
      "roc_lr 0.6711025971417233\n",
      "roc_rf 0.8401733743868585\n"
     ]
    }
   ],
   "source": [
    "lr = LogisticRegression()\n",
    "lr.fit(X_train,y_train)\n",
    "probs_lr = lr.predict_proba(X_test)\n",
    "roc_lr = roc_auc_score(y_test, lr.predict_proba(X_test)[:,1])\n",
    "print('roc_lr',roc_lr)\n",
    "\n",
    "rf = RandomForestClassifier()\n",
    "rf.fit(X_train,y_train)\n",
    "probs_rf = rf.predict_proba(X_test)\n",
    "roc_rf = roc_auc_score(y_test, rf.predict_proba(X_test)[:,1])\n",
    "print('roc_rf',roc_rf)"
   ]
  },
  {
   "cell_type": "code",
   "execution_count": 159,
   "metadata": {},
   "outputs": [
    {
     "data": {
      "image/png": "[encoded data removed]",
      "text/plain": [
       "<Figure size 432x288 with 1 Axes>"
      ]
     },
     "metadata": {
      "needs_background": "light"
     },
     "output_type": "display_data"
    }
   ],
   "source": [
    "create_roc_plot(y_test, probs_lr[:,1], 'logistic')"
   ]
  },
  {
   "cell_type": "code",
   "execution_count": 160,
   "metadata": {},
   "outputs": [
    {
     "data": {
      "image/png": "[encoded data removed]",
      "text/plain": [
       "<Figure size 432x288 with 1 Axes>"
      ]
     },
     "metadata": {
      "needs_background": "light"
     },
     "output_type": "display_data"
    }
   ],
   "source": [
    "create_roc_plot(y_test, probs_rf[:,1], 'random forest')"
   ]
  },
  {
   "cell_type": "code",
   "execution_count": 161,
   "metadata": {},
   "outputs": [
    {
     "data": {
      "text/plain": [
       "<sklearn.metrics._plot.confusion_matrix.ConfusionMatrixDisplay at 0x132108520>"
      ]
     },
     "execution_count": 161,
     "metadata": {},
     "output_type": "execute_result"
    },
    {
     "data": {
      "image/png": "[encoded data removed]",
      "text/plain": [
       "<Figure size 432x288 with 2 Axes>"
      ]
     },
     "metadata": {
      "needs_background": "light"
     },
     "output_type": "display_data"
    }
   ],
   "source": [
    "plot_confusion_matrix(rf, X_test, y_test)"
   ]
  },
  {
   "cell_type": "code",
   "execution_count": 162,
   "metadata": {},
   "outputs": [
    {
     "data": {
      "image/png": "[encoded data removed]",
      "text/plain": [
       "<Figure size 1080x720 with 1 Axes>"
      ]
     },
     "metadata": {
      "needs_background": "light"
     },
     "output_type": "display_data"
    }
   ],
   "source": [
    "# feature importance\n",
    "features = pd.DataFrame()\n",
    "features['feature'] = train.columns\n",
    "features['importance'] = rf.feature_importances_\n",
    "features.sort_values(by=['importance'], ascending=False, inplace=True)\n",
    "features.set_index('feature', inplace=True)\n",
    "features.plot(kind='barh', figsize=(15, 10))\n",
    "plt.title('Features Importance')\n",
    "plt.show()"
   ]
  },
  {
   "cell_type": "markdown",
   "metadata": {},
   "source": [
    "b) test several models"
   ]
  },
  {
   "cell_type": "code",
   "execution_count": 164,
   "metadata": {},
   "outputs": [],
   "source": [
    "tps0=time.process_time()\n",
    "\n",
    "# Classifiers\n",
    "nb = GaussianNB()\n",
    "svm_ = SVC()\n",
    "rf = RandomForestClassifier()\n",
    "gbm = GradientBoostingClassifier()\n",
    "nnet= MLPClassifier()\n",
    "xgb = xgboost.XGBClassifier(n_jobs = -1)\n",
    "\n",
    "# Number of iterations\n",
    "B=3 # to test the loop : use B=3 instead\n",
    "\n",
    "# Parameters grids\n",
    "listMethGrid=[nb, svm_, rf, gbm, xgb, nnet]\n",
    "arrayErreur=np.empty((B,6))"
   ]
  },
  {
   "cell_type": "code",
   "execution_count": 165,
   "metadata": {},
   "outputs": [
    {
     "name": "stdout",
     "output_type": "stream",
     "text": [
      "0\n",
      "1\n",
      "2\n",
      "Execution time in mn : 6.43761485\n"
     ]
    }
   ],
   "source": [
    "for i in range(B):\n",
    "    print(i)\n",
    "    X_train, X_test, y_train, y_test = train_test_split(train, label, stratify=label, test_size=0.33)\n",
    "    \n",
    "    # Computation of test error\n",
    "    for j,method in enumerate(listMethGrid):\n",
    "        methFit=method.fit(X_train, y_train)\n",
    "        predictions = methFit.predict(X_test)\n",
    "        arrayErreur[i,j]=accuracy_score(y_test, predictions)\n",
    "        \n",
    "tps1=time.process_time()\n",
    "print(\"Execution time in mn :\",(tps1 - tps0)/60)\n",
    "\n",
    "dataframeErreur=pd.DataFrame(arrayErreur,columns=[\"NB\", \"SVM\", \"RF\", \"GBM\", \"XGB\", \"NNET\"])  "
   ]
  },
  {
   "cell_type": "code",
   "execution_count": 166,
   "metadata": {},
   "outputs": [
    {
     "data": {
      "image/png": "[encoded data removed]",
      "text/plain": [
       "<Figure size 1080x576 with 1 Axes>"
      ]
     },
     "metadata": {
      "needs_background": "light"
     },
     "output_type": "display_data"
    }
   ],
   "source": [
    "fig, ax = plt.subplots(figsize=(15,8))\n",
    "dataframeErreur[[\"NB\", \"SVM\", \"RF\", \"GBM\", \"XGB\", \"NNET\"]].boxplot(return_type='dict')\n",
    "dataframeErreur.to_csv('dataframeErreur_B10.csv',index=None)\n",
    "ax.set_xticklabels([\"NB\", \"SVM\", \"RF\", \"GBM\", \"XGB\", \"NNET\"],fontsize=30)\n",
    "plt.show()"
   ]
  },
  {
   "cell_type": "markdown",
   "metadata": {},
   "source": [
    "Best score with xgboost and gradient boosting. \n",
    "Let's try lightgbm. I like this algorithm because it's fast and efficient. It can be less sensitive to outliers and works well on large datasets. we also have interesting options for hyperparameters tuning."
   ]
  },
  {
   "cell_type": "markdown",
   "metadata": {},
   "source": [
    "### 4) Optimization"
   ]
  },
  {
   "cell_type": "code",
   "execution_count": 167,
   "metadata": {},
   "outputs": [],
   "source": [
    "def stratify_kfold_evaluate(X, y, model, n_splits=3):\n",
    "    lst_accu_stratified = []\n",
    "    lst_prec_stratified = []\n",
    "    lst_rec_stratified = []\n",
    "    skf = StratifiedKFold(n_splits=n_splits)\n",
    "    for train_index, test_index in skf.split(X, y):\n",
    "        clone_clf = clone(model)\n",
    "        X_train_folds, X_test_folds = X.iloc[train_index], X.iloc[test_index]\n",
    "        y_train_folds, y_test_folds = y.iloc[train_index], y.iloc[test_index]\n",
    "        clone_clf.fit(X_train_folds, y_train_folds)\n",
    "        y_pred = clone_clf.predict(X_test_folds)\n",
    "        n_correct = sum(y_pred == y_test_folds)\n",
    "        lst_accu_stratified.append(n_correct/len(y_pred))\n",
    "        lst_prec_stratified.append(precision_score(y_test_folds, y_pred))\n",
    "        lst_rec_stratified.append(recall_score(y_test_folds, y_pred))\n",
    "    return {\"accuracy\":lst_accu_stratified,\n",
    "            \"precision\":lst_prec_stratified,\n",
    "            \"recall\": lst_rec_stratified}"
   ]
  },
  {
   "cell_type": "code",
   "execution_count": 168,
   "metadata": {},
   "outputs": [
    {
     "name": "stdout",
     "output_type": "stream",
     "text": [
      "{'accuracy': [0.93454, 0.9354, 0.93652], 'precision': [0.5286307053941909, 0.5469011725293133, 0.572289156626506], 'recall': [0.19060442848593656, 0.19539198084979054, 0.19898264512268102]}\n"
     ]
    }
   ],
   "source": [
    "xgb = xgboost.XGBClassifier()\n",
    "print(stratify_kfold_evaluate(train, label, xgb))"
   ]
  },
  {
   "cell_type": "code",
   "execution_count": 169,
   "metadata": {},
   "outputs": [
    {
     "name": "stdout",
     "output_type": "stream",
     "text": [
      "{'accuracy': [0.93684, 0.93678, 0.9377], 'precision': [0.5805604203152365, 0.5849765258215962, 0.6048014773776547], 'recall': [0.19838420107719928, 0.18641532016756432, 0.1959904248952723]}\n"
     ]
    }
   ],
   "source": [
    "gbm = GradientBoostingClassifier()\n",
    "print(stratify_kfold_evaluate(train, label, gbm))"
   ]
  },
  {
   "cell_type": "code",
   "execution_count": 170,
   "metadata": {},
   "outputs": [
    {
     "name": "stdout",
     "output_type": "stream",
     "text": [
      "{'accuracy': [0.93612, 0.93674, 0.9377], 'precision': [0.5636833046471601, 0.5856459330143541, 0.6081982840800763], 'recall': [0.1959904248952723, 0.18312387791741472, 0.19090365050867744]}\n"
     ]
    }
   ],
   "source": [
    "lgb = lightgbm.LGBMClassifier()\n",
    "print(stratify_kfold_evaluate(train, label, lgb))"
   ]
  },
  {
   "cell_type": "markdown",
   "metadata": {},
   "source": [
    "lightgbm"
   ]
  },
  {
   "cell_type": "code",
   "execution_count": 171,
   "metadata": {
    "scrolled": true
   },
   "outputs": [
    {
     "data": {
      "image/png": "[encoded data removed]",
      "text/plain": [
       "<Figure size 432x288 with 2 Axes>"
      ]
     },
     "metadata": {
      "needs_background": "light"
     },
     "output_type": "display_data"
    }
   ],
   "source": [
    "from sklearn.metrics import plot_confusion_matrix\n",
    "X_train, X_test, y_train, y_test = train_test_split(train, label, stratify=label, test_size=0.33)\n",
    "clf = lightgbm.LGBMClassifier()\n",
    "clf.fit(X_train, y_train)\n",
    "plot_confusion_matrix(clf, X_test, y_test)  \n",
    "plt.show()"
   ]
  },
  {
   "cell_type": "code",
   "execution_count": 195,
   "metadata": {},
   "outputs": [],
   "source": [
    "def print_status(optim_result):\n",
    "    \"\"\"Status callback durring bayesian hyperparameter search\"\"\"\n",
    "    # model cross validation results\n",
    "    all_models = pd.DataFrame(SEARCH.cv_results_)  \n",
    "    # Best score and best parameters    \n",
    "    best_params = pd.Series(SEARCH.best_params_)\n",
    "    print('Model #{}\\nBest ROC-AUC: {}\\nBest params: {}\\n'.format(\n",
    "        len(all_models),\n",
    "        np.round(SEARCH.best_score_, 4),\n",
    "        SEARCH.best_params_\n",
    "    ))"
   ]
  },
  {
   "cell_type": "code",
   "execution_count": 205,
   "metadata": {},
   "outputs": [
    {
     "name": "stdout",
     "output_type": "stream",
     "text": [
      "Model #1\n",
      "Best ROC-AUC: 0.8611\n",
      "Best params: OrderedDict([('boosting_type', 'gbdt'), ('lambda_l1', 15.246748254295628), ('lambda_l2', 62.89324408100382), ('learning_rate', 0.039902034911097374), ('max_bin', 672), ('max_depth', 21), ('min_data_in_leaf', 36), ('n_estimators', 87), ('num_leaves', 32), ('subsample', 0.6830124295121899), ('subsample_freq', 6)])\n",
      "\n",
      "Model #2\n",
      "Best ROC-AUC: 0.8611\n",
      "Best params: OrderedDict([('boosting_type', 'gbdt'), ('lambda_l1', 15.246748254295628), ('lambda_l2', 62.89324408100382), ('learning_rate', 0.039902034911097374), ('max_bin', 672), ('max_depth', 21), ('min_data_in_leaf', 36), ('n_estimators', 87), ('num_leaves', 32), ('subsample', 0.6830124295121899), ('subsample_freq', 6)])\n",
      "\n",
      "Model #3\n",
      "Best ROC-AUC: 0.8619\n",
      "Best params: OrderedDict([('boosting_type', 'gbdt'), ('lambda_l1', 57.038430274030944), ('lambda_l2', 0.2063371728225427), ('learning_rate', 0.06678382913819254), ('max_bin', 192), ('max_depth', 23), ('min_data_in_leaf', 17), ('n_estimators', 88), ('num_leaves', 57), ('subsample', 0.9758862799235999), ('subsample_freq', 7)])\n",
      "\n",
      "Model #4\n",
      "Best ROC-AUC: 0.8619\n",
      "Best params: OrderedDict([('boosting_type', 'gbdt'), ('lambda_l1', 57.038430274030944), ('lambda_l2', 0.2063371728225427), ('learning_rate', 0.06678382913819254), ('max_bin', 192), ('max_depth', 23), ('min_data_in_leaf', 17), ('n_estimators', 88), ('num_leaves', 57), ('subsample', 0.9758862799235999), ('subsample_freq', 7)])\n",
      "\n",
      "Model #5\n",
      "Best ROC-AUC: 0.8619\n",
      "Best params: OrderedDict([('boosting_type', 'gbdt'), ('lambda_l1', 57.038430274030944), ('lambda_l2', 0.2063371728225427), ('learning_rate', 0.06678382913819254), ('max_bin', 192), ('max_depth', 23), ('min_data_in_leaf', 17), ('n_estimators', 88), ('num_leaves', 57), ('subsample', 0.9758862799235999), ('subsample_freq', 7)])\n",
      "\n",
      "Model #6\n",
      "Best ROC-AUC: 0.8619\n",
      "Best params: OrderedDict([('boosting_type', 'gbdt'), ('lambda_l1', 57.038430274030944), ('lambda_l2', 0.2063371728225427), ('learning_rate', 0.06678382913819254), ('max_bin', 192), ('max_depth', 23), ('min_data_in_leaf', 17), ('n_estimators', 88), ('num_leaves', 57), ('subsample', 0.9758862799235999), ('subsample_freq', 7)])\n",
      "\n",
      "Model #7\n",
      "Best ROC-AUC: 0.8619\n",
      "Best params: OrderedDict([('boosting_type', 'gbdt'), ('lambda_l1', 57.038430274030944), ('lambda_l2', 0.2063371728225427), ('learning_rate', 0.06678382913819254), ('max_bin', 192), ('max_depth', 23), ('min_data_in_leaf', 17), ('n_estimators', 88), ('num_leaves', 57), ('subsample', 0.9758862799235999), ('subsample_freq', 7)])\n",
      "\n",
      "Model #8\n",
      "Best ROC-AUC: 0.8619\n",
      "Best params: OrderedDict([('boosting_type', 'gbdt'), ('lambda_l1', 57.038430274030944), ('lambda_l2', 0.2063371728225427), ('learning_rate', 0.06678382913819254), ('max_bin', 192), ('max_depth', 23), ('min_data_in_leaf', 17), ('n_estimators', 88), ('num_leaves', 57), ('subsample', 0.9758862799235999), ('subsample_freq', 7)])\n",
      "\n",
      "Model #9\n",
      "Best ROC-AUC: 0.8619\n",
      "Best params: OrderedDict([('boosting_type', 'gbdt'), ('lambda_l1', 57.038430274030944), ('lambda_l2', 0.2063371728225427), ('learning_rate', 0.06678382913819254), ('max_bin', 192), ('max_depth', 23), ('min_data_in_leaf', 17), ('n_estimators', 88), ('num_leaves', 57), ('subsample', 0.9758862799235999), ('subsample_freq', 7)])\n",
      "\n",
      "Model #10\n",
      "Best ROC-AUC: 0.8619\n",
      "Best params: OrderedDict([('boosting_type', 'gbdt'), ('lambda_l1', 57.038430274030944), ('lambda_l2', 0.2063371728225427), ('learning_rate', 0.06678382913819254), ('max_bin', 192), ('max_depth', 23), ('min_data_in_leaf', 17), ('n_estimators', 88), ('num_leaves', 57), ('subsample', 0.9758862799235999), ('subsample_freq', 7)])\n",
      "\n",
      "Model #11\n",
      "Best ROC-AUC: 0.8619\n",
      "Best params: OrderedDict([('boosting_type', 'gbdt'), ('lambda_l1', 57.038430274030944), ('lambda_l2', 0.2063371728225427), ('learning_rate', 0.06678382913819254), ('max_bin', 192), ('max_depth', 23), ('min_data_in_leaf', 17), ('n_estimators', 88), ('num_leaves', 57), ('subsample', 0.9758862799235999), ('subsample_freq', 7)])\n",
      "\n",
      "Model #12\n",
      "Best ROC-AUC: 0.8619\n",
      "Best params: OrderedDict([('boosting_type', 'gbdt'), ('lambda_l1', 57.038430274030944), ('lambda_l2', 0.2063371728225427), ('learning_rate', 0.06678382913819254), ('max_bin', 192), ('max_depth', 23), ('min_data_in_leaf', 17), ('n_estimators', 88), ('num_leaves', 57), ('subsample', 0.9758862799235999), ('subsample_freq', 7)])\n",
      "\n",
      "Model #13\n",
      "Best ROC-AUC: 0.8619\n",
      "Best params: OrderedDict([('boosting_type', 'gbdt'), ('lambda_l1', 57.038430274030944), ('lambda_l2', 0.2063371728225427), ('learning_rate', 0.06678382913819254), ('max_bin', 192), ('max_depth', 23), ('min_data_in_leaf', 17), ('n_estimators', 88), ('num_leaves', 57), ('subsample', 0.9758862799235999), ('subsample_freq', 7)])\n",
      "\n",
      "Model #14\n",
      "Best ROC-AUC: 0.8619\n",
      "Best params: OrderedDict([('boosting_type', 'gbdt'), ('lambda_l1', 57.038430274030944), ('lambda_l2', 0.2063371728225427), ('learning_rate', 0.06678382913819254), ('max_bin', 192), ('max_depth', 23), ('min_data_in_leaf', 17), ('n_estimators', 88), ('num_leaves', 57), ('subsample', 0.9758862799235999), ('subsample_freq', 7)])\n",
      "\n",
      "Model #15\n",
      "Best ROC-AUC: 0.8619\n",
      "Best params: OrderedDict([('boosting_type', 'gbdt'), ('lambda_l1', 57.038430274030944), ('lambda_l2', 0.2063371728225427), ('learning_rate', 0.06678382913819254), ('max_bin', 192), ('max_depth', 23), ('min_data_in_leaf', 17), ('n_estimators', 88), ('num_leaves', 57), ('subsample', 0.9758862799235999), ('subsample_freq', 7)])\n",
      "\n",
      "Model #16\n",
      "Best ROC-AUC: 0.8619\n",
      "Best params: OrderedDict([('boosting_type', 'gbdt'), ('lambda_l1', 57.038430274030944), ('lambda_l2', 0.2063371728225427), ('learning_rate', 0.06678382913819254), ('max_bin', 192), ('max_depth', 23), ('min_data_in_leaf', 17), ('n_estimators', 88), ('num_leaves', 57), ('subsample', 0.9758862799235999), ('subsample_freq', 7)])\n",
      "\n",
      "Model #17\n",
      "Best ROC-AUC: 0.8619\n",
      "Best params: OrderedDict([('boosting_type', 'gbdt'), ('lambda_l1', 57.038430274030944), ('lambda_l2', 0.2063371728225427), ('learning_rate', 0.06678382913819254), ('max_bin', 192), ('max_depth', 23), ('min_data_in_leaf', 17), ('n_estimators', 88), ('num_leaves', 57), ('subsample', 0.9758862799235999), ('subsample_freq', 7)])\n",
      "\n",
      "Model #18\n",
      "Best ROC-AUC: 0.8619\n",
      "Best params: OrderedDict([('boosting_type', 'gbdt'), ('lambda_l1', 57.038430274030944), ('lambda_l2', 0.2063371728225427), ('learning_rate', 0.06678382913819254), ('max_bin', 192), ('max_depth', 23), ('min_data_in_leaf', 17), ('n_estimators', 88), ('num_leaves', 57), ('subsample', 0.9758862799235999), ('subsample_freq', 7)])\n",
      "\n",
      "Model #19\n",
      "Best ROC-AUC: 0.8619\n",
      "Best params: OrderedDict([('boosting_type', 'gbdt'), ('lambda_l1', 57.038430274030944), ('lambda_l2', 0.2063371728225427), ('learning_rate', 0.06678382913819254), ('max_bin', 192), ('max_depth', 23), ('min_data_in_leaf', 17), ('n_estimators', 88), ('num_leaves', 57), ('subsample', 0.9758862799235999), ('subsample_freq', 7)])\n",
      "\n",
      "Model #20\n",
      "Best ROC-AUC: 0.8619\n",
      "Best params: OrderedDict([('boosting_type', 'gbdt'), ('lambda_l1', 57.038430274030944), ('lambda_l2', 0.2063371728225427), ('learning_rate', 0.06678382913819254), ('max_bin', 192), ('max_depth', 23), ('min_data_in_leaf', 17), ('n_estimators', 88), ('num_leaves', 57), ('subsample', 0.9758862799235999), ('subsample_freq', 7)])\n",
      "\n",
      "Model #21\n",
      "Best ROC-AUC: 0.8619\n",
      "Best params: OrderedDict([('boosting_type', 'gbdt'), ('lambda_l1', 57.038430274030944), ('lambda_l2', 0.2063371728225427), ('learning_rate', 0.06678382913819254), ('max_bin', 192), ('max_depth', 23), ('min_data_in_leaf', 17), ('n_estimators', 88), ('num_leaves', 57), ('subsample', 0.9758862799235999), ('subsample_freq', 7)])\n",
      "\n",
      "Model #22\n",
      "Best ROC-AUC: 0.8619\n",
      "Best params: OrderedDict([('boosting_type', 'gbdt'), ('lambda_l1', 57.038430274030944), ('lambda_l2', 0.2063371728225427), ('learning_rate', 0.06678382913819254), ('max_bin', 192), ('max_depth', 23), ('min_data_in_leaf', 17), ('n_estimators', 88), ('num_leaves', 57), ('subsample', 0.9758862799235999), ('subsample_freq', 7)])\n",
      "\n",
      "Model #23\n",
      "Best ROC-AUC: 0.8619\n",
      "Best params: OrderedDict([('boosting_type', 'gbdt'), ('lambda_l1', 57.038430274030944), ('lambda_l2', 0.2063371728225427), ('learning_rate', 0.06678382913819254), ('max_bin', 192), ('max_depth', 23), ('min_data_in_leaf', 17), ('n_estimators', 88), ('num_leaves', 57), ('subsample', 0.9758862799235999), ('subsample_freq', 7)])\n",
      "\n"
     ]
    },
    {
     "name": "stdout",
     "output_type": "stream",
     "text": [
      "Model #24\n",
      "Best ROC-AUC: 0.8619\n",
      "Best params: OrderedDict([('boosting_type', 'gbdt'), ('lambda_l1', 57.038430274030944), ('lambda_l2', 0.2063371728225427), ('learning_rate', 0.06678382913819254), ('max_bin', 192), ('max_depth', 23), ('min_data_in_leaf', 17), ('n_estimators', 88), ('num_leaves', 57), ('subsample', 0.9758862799235999), ('subsample_freq', 7)])\n",
      "\n",
      "Model #25\n",
      "Best ROC-AUC: 0.8619\n",
      "Best params: OrderedDict([('boosting_type', 'gbdt'), ('lambda_l1', 57.038430274030944), ('lambda_l2', 0.2063371728225427), ('learning_rate', 0.06678382913819254), ('max_bin', 192), ('max_depth', 23), ('min_data_in_leaf', 17), ('n_estimators', 88), ('num_leaves', 57), ('subsample', 0.9758862799235999), ('subsample_freq', 7)])\n",
      "\n",
      "Model #26\n",
      "Best ROC-AUC: 0.8619\n",
      "Best params: OrderedDict([('boosting_type', 'gbdt'), ('lambda_l1', 57.038430274030944), ('lambda_l2', 0.2063371728225427), ('learning_rate', 0.06678382913819254), ('max_bin', 192), ('max_depth', 23), ('min_data_in_leaf', 17), ('n_estimators', 88), ('num_leaves', 57), ('subsample', 0.9758862799235999), ('subsample_freq', 7)])\n",
      "\n",
      "Model #27\n",
      "Best ROC-AUC: 0.8619\n",
      "Best params: OrderedDict([('boosting_type', 'gbdt'), ('lambda_l1', 57.038430274030944), ('lambda_l2', 0.2063371728225427), ('learning_rate', 0.06678382913819254), ('max_bin', 192), ('max_depth', 23), ('min_data_in_leaf', 17), ('n_estimators', 88), ('num_leaves', 57), ('subsample', 0.9758862799235999), ('subsample_freq', 7)])\n",
      "\n",
      "Model #28\n",
      "Best ROC-AUC: 0.8619\n",
      "Best params: OrderedDict([('boosting_type', 'gbdt'), ('lambda_l1', 57.038430274030944), ('lambda_l2', 0.2063371728225427), ('learning_rate', 0.06678382913819254), ('max_bin', 192), ('max_depth', 23), ('min_data_in_leaf', 17), ('n_estimators', 88), ('num_leaves', 57), ('subsample', 0.9758862799235999), ('subsample_freq', 7)])\n",
      "\n",
      "Model #29\n",
      "Best ROC-AUC: 0.8619\n",
      "Best params: OrderedDict([('boosting_type', 'gbdt'), ('lambda_l1', 57.038430274030944), ('lambda_l2', 0.2063371728225427), ('learning_rate', 0.06678382913819254), ('max_bin', 192), ('max_depth', 23), ('min_data_in_leaf', 17), ('n_estimators', 88), ('num_leaves', 57), ('subsample', 0.9758862799235999), ('subsample_freq', 7)])\n",
      "\n",
      "Model #30\n",
      "Best ROC-AUC: 0.8619\n",
      "Best params: OrderedDict([('boosting_type', 'gbdt'), ('lambda_l1', 57.038430274030944), ('lambda_l2', 0.2063371728225427), ('learning_rate', 0.06678382913819254), ('max_bin', 192), ('max_depth', 23), ('min_data_in_leaf', 17), ('n_estimators', 88), ('num_leaves', 57), ('subsample', 0.9758862799235999), ('subsample_freq', 7)])\n",
      "\n",
      "Model #31\n",
      "Best ROC-AUC: 0.8619\n",
      "Best params: OrderedDict([('boosting_type', 'gbdt'), ('lambda_l1', 57.038430274030944), ('lambda_l2', 0.2063371728225427), ('learning_rate', 0.06678382913819254), ('max_bin', 192), ('max_depth', 23), ('min_data_in_leaf', 17), ('n_estimators', 88), ('num_leaves', 57), ('subsample', 0.9758862799235999), ('subsample_freq', 7)])\n",
      "\n",
      "Model #32\n",
      "Best ROC-AUC: 0.8619\n",
      "Best params: OrderedDict([('boosting_type', 'gbdt'), ('lambda_l1', 57.038430274030944), ('lambda_l2', 0.2063371728225427), ('learning_rate', 0.06678382913819254), ('max_bin', 192), ('max_depth', 23), ('min_data_in_leaf', 17), ('n_estimators', 88), ('num_leaves', 57), ('subsample', 0.9758862799235999), ('subsample_freq', 7)])\n",
      "\n",
      "Model #33\n",
      "Best ROC-AUC: 0.8619\n",
      "Best params: OrderedDict([('boosting_type', 'gbdt'), ('lambda_l1', 57.038430274030944), ('lambda_l2', 0.2063371728225427), ('learning_rate', 0.06678382913819254), ('max_bin', 192), ('max_depth', 23), ('min_data_in_leaf', 17), ('n_estimators', 88), ('num_leaves', 57), ('subsample', 0.9758862799235999), ('subsample_freq', 7)])\n",
      "\n",
      "Model #34\n",
      "Best ROC-AUC: 0.8619\n",
      "Best params: OrderedDict([('boosting_type', 'gbdt'), ('lambda_l1', 57.038430274030944), ('lambda_l2', 0.2063371728225427), ('learning_rate', 0.06678382913819254), ('max_bin', 192), ('max_depth', 23), ('min_data_in_leaf', 17), ('n_estimators', 88), ('num_leaves', 57), ('subsample', 0.9758862799235999), ('subsample_freq', 7)])\n",
      "\n",
      "Model #35\n",
      "Best ROC-AUC: 0.8619\n",
      "Best params: OrderedDict([('boosting_type', 'gbdt'), ('lambda_l1', 57.038430274030944), ('lambda_l2', 0.2063371728225427), ('learning_rate', 0.06678382913819254), ('max_bin', 192), ('max_depth', 23), ('min_data_in_leaf', 17), ('n_estimators', 88), ('num_leaves', 57), ('subsample', 0.9758862799235999), ('subsample_freq', 7)])\n",
      "\n",
      "Model #36\n",
      "Best ROC-AUC: 0.8619\n",
      "Best params: OrderedDict([('boosting_type', 'gbdt'), ('lambda_l1', 57.038430274030944), ('lambda_l2', 0.2063371728225427), ('learning_rate', 0.06678382913819254), ('max_bin', 192), ('max_depth', 23), ('min_data_in_leaf', 17), ('n_estimators', 88), ('num_leaves', 57), ('subsample', 0.9758862799235999), ('subsample_freq', 7)])\n",
      "\n",
      "Model #37\n",
      "Best ROC-AUC: 0.8619\n",
      "Best params: OrderedDict([('boosting_type', 'gbdt'), ('lambda_l1', 57.038430274030944), ('lambda_l2', 0.2063371728225427), ('learning_rate', 0.06678382913819254), ('max_bin', 192), ('max_depth', 23), ('min_data_in_leaf', 17), ('n_estimators', 88), ('num_leaves', 57), ('subsample', 0.9758862799235999), ('subsample_freq', 7)])\n",
      "\n",
      "Model #38\n",
      "Best ROC-AUC: 0.8619\n",
      "Best params: OrderedDict([('boosting_type', 'gbdt'), ('lambda_l1', 57.038430274030944), ('lambda_l2', 0.2063371728225427), ('learning_rate', 0.06678382913819254), ('max_bin', 192), ('max_depth', 23), ('min_data_in_leaf', 17), ('n_estimators', 88), ('num_leaves', 57), ('subsample', 0.9758862799235999), ('subsample_freq', 7)])\n",
      "\n",
      "Model #39\n",
      "Best ROC-AUC: 0.8641\n",
      "Best params: OrderedDict([('boosting_type', 'gbdt'), ('lambda_l1', 8.673634686469503), ('lambda_l2', 1.6986571984925376), ('learning_rate', 0.06026827721527446), ('max_bin', 460), ('max_depth', 10), ('min_data_in_leaf', 81), ('n_estimators', 99), ('num_leaves', 39), ('subsample', 0.9300757380006088), ('subsample_freq', 4)])\n",
      "\n",
      "Model #40\n",
      "Best ROC-AUC: 0.8641\n",
      "Best params: OrderedDict([('boosting_type', 'gbdt'), ('lambda_l1', 8.673634686469503), ('lambda_l2', 1.6986571984925376), ('learning_rate', 0.06026827721527446), ('max_bin', 460), ('max_depth', 10), ('min_data_in_leaf', 81), ('n_estimators', 99), ('num_leaves', 39), ('subsample', 0.9300757380006088), ('subsample_freq', 4)])\n",
      "\n",
      "[LightGBM] [Warning] Unknown parameter: eval_metric\n",
      "[LightGBM] [Warning] min_data_in_leaf is set=81, min_child_samples=20 will be ignored. Current value: min_data_in_leaf=81\n",
      "[LightGBM] [Warning] lambda_l2 is set=1.6986571984925376, reg_lambda=0.0 will be ignored. Current value: lambda_l2=1.6986571984925376\n",
      "[LightGBM] [Warning] lambda_l1 is set=8.673634686469503, reg_alpha=0.0 will be ignored. Current value: lambda_l1=8.673634686469503\n",
      "[LightGBM] [Warning] Unknown parameter: eval_metric\n",
      "[LightGBM] [Warning] min_data_in_leaf is set=81, min_child_samples=20 will be ignored. Current value: min_data_in_leaf=81\n",
      "[LightGBM] [Warning] lambda_l2 is set=1.6986571984925376, reg_lambda=0.0 will be ignored. Current value: lambda_l2=1.6986571984925376\n",
      "[LightGBM] [Warning] lambda_l1 is set=8.673634686469503, reg_alpha=0.0 will be ignored. Current value: lambda_l1=8.673634686469503\n",
      "[LightGBM] [Warning] Auto-choosing col-wise multi-threading, the overhead of testing was 0.039357 seconds.\n",
      "You can set `force_col_wise=true` to remove the overhead.\n"
     ]
    },
    {
     "data": {
      "text/plain": [
       "BayesSearchCV(cv=StratifiedKFold(n_splits=3, random_state=42, shuffle=True),\n",
       "              estimator=LGBMClassifier(eval_metric='auc', n_jobs=1,\n",
       "                                       objective='binary', verbose=0),\n",
       "              n_iter=40, n_jobs=-1, random_state=42, scoring='roc_auc',\n",
       "              search_spaces={'boosting_type': ['gbdt', 'rf', 'dart'],\n",
       "                             'lambda_l1': Real(low=0.1, high=100.0, prior='log-uniform', transform='identity'),\n",
       "                             'lambda_l2...\n",
       "                             'min_data_in_leaf': Integer(low=2, high=100, prior='log-uniform', transform='identity'),\n",
       "                             'n_estimators': Integer(low=50, high=100, prior='uniform', transform='identity'),\n",
       "                             'num_leaves': Integer(low=2, high=100, prior='uniform', transform='identity'),\n",
       "                             'subsample': Real(low=0.1, high=1.0, prior='uniform', transform='identity'),\n",
       "                             'subsample_freq': Integer(low=1, high=10, prior='uniform', transform='identity')})"
      ]
     },
     "execution_count": 205,
     "metadata": {},
     "output_type": "execute_result"
    }
   ],
   "source": [
    "from skopt import BayesSearchCV\n",
    "from skopt.space import Integer, Real\n",
    "\n",
    "_ITERATIONS = 40\n",
    "_FOLDS = 3\n",
    "_OPTIMIZER_KWARGS = {'base_estimator': 'GP'}\n",
    "_CV_METRIC = 'roc_auc'\n",
    "\n",
    "_PARAM_SPACE = {\n",
    "        'learning_rate': Real(1e-2, 8e-1, prior='log-uniform'),\n",
    "        'subsample': Real(1e-1, 1e-0, prior='uniform'),\n",
    "        'subsample_freq': Integer(1, 10, prior='uniform'),\n",
    "        'max_bin': Integer(5, 1000, prior='log-uniform'),\n",
    "        'min_data_in_leaf': Integer(2, 100, prior='log-uniform'),\n",
    "        'num_leaves': Integer(2, 100),\n",
    "        'lambda_l1': Real(1e-1, 100e-0, prior='log-uniform'),\n",
    "        'lambda_l2': Real(1e-1, 100e-0, prior='log-uniform'),\n",
    "        'max_depth': Integer(0, 50),\n",
    "        'n_estimators': Integer(50, 100),\n",
    "        'boosting_type': ['gbdt', 'rf', 'dart'],\n",
    "}\n",
    "\n",
    "SEARCH = BayesSearchCV(\n",
    "    estimator = lightgbm.LGBMClassifier(\n",
    "        objective='binary',\n",
    "        eval_metric='auc',\n",
    "        n_jobs=1,\n",
    "        verbose=0\n",
    "    ),\n",
    "    search_spaces = _PARAM_SPACE,    \n",
    "    scoring = _CV_METRIC,\n",
    "    cv = StratifiedKFold(\n",
    "        n_splits=_FOLDS,\n",
    "        shuffle=True,\n",
    "        random_state=42\n",
    "    ),\n",
    "    n_jobs = -1,\n",
    "    n_iter = _ITERATIONS,   \n",
    "    verbose = 0,\n",
    "    refit = True,\n",
    "    random_state = 42\n",
    ")\n",
    "\n",
    "# Fit the model\n",
    "SEARCH.fit(train.values, label.values, callback=print_status)"
   ]
  },
  {
   "cell_type": "code",
   "execution_count": 206,
   "metadata": {},
   "outputs": [
    {
     "data": {
      "text/plain": [
       "0.864081245117884"
      ]
     },
     "execution_count": 206,
     "metadata": {},
     "output_type": "execute_result"
    }
   ],
   "source": [
    "SEARCH.best_score_"
   ]
  },
  {
   "cell_type": "markdown",
   "metadata": {},
   "source": [
    "### 5) scores & submissions"
   ]
  },
  {
   "cell_type": "code",
   "execution_count": 207,
   "metadata": {},
   "outputs": [
    {
     "data": {
      "text/html": [
       "<div>\n",
       "<style scoped>\n",
       "    .dataframe tbody tr th:only-of-type {\n",
       "        vertical-align: middle;\n",
       "    }\n",
       "\n",
       "    .dataframe tbody tr th {\n",
       "        vertical-align: top;\n",
       "    }\n",
       "\n",
       "    .dataframe thead th {\n",
       "        text-align: right;\n",
       "    }\n",
       "</style>\n",
       "<table border=\"1\" class=\"dataframe\">\n",
       "  <thead>\n",
       "    <tr style=\"text-align: right;\">\n",
       "      <th></th>\n",
       "      <th>Id</th>\n",
       "      <th>Probability</th>\n",
       "    </tr>\n",
       "  </thead>\n",
       "  <tbody>\n",
       "    <tr>\n",
       "      <th>0</th>\n",
       "      <td>1</td>\n",
       "      <td>0.055926</td>\n",
       "    </tr>\n",
       "    <tr>\n",
       "      <th>1</th>\n",
       "      <td>2</td>\n",
       "      <td>0.039796</td>\n",
       "    </tr>\n",
       "    <tr>\n",
       "      <th>2</th>\n",
       "      <td>3</td>\n",
       "      <td>0.016115</td>\n",
       "    </tr>\n",
       "    <tr>\n",
       "      <th>3</th>\n",
       "      <td>4</td>\n",
       "      <td>0.079145</td>\n",
       "    </tr>\n",
       "    <tr>\n",
       "      <th>4</th>\n",
       "      <td>5</td>\n",
       "      <td>0.111037</td>\n",
       "    </tr>\n",
       "  </tbody>\n",
       "</table>\n",
       "</div>"
      ],
      "text/plain": [
       "   Id  Probability\n",
       "0   1     0.055926\n",
       "1   2     0.039796\n",
       "2   3     0.016115\n",
       "3   4     0.079145\n",
       "4   5     0.111037"
      ]
     },
     "execution_count": 207,
     "metadata": {},
     "output_type": "execute_result"
    }
   ],
   "source": [
    "sampleEntry.head()"
   ]
  },
  {
   "cell_type": "code",
   "execution_count": 208,
   "metadata": {},
   "outputs": [
    {
     "data": {
      "text/html": [
       "<div>\n",
       "<style scoped>\n",
       "    .dataframe tbody tr th:only-of-type {\n",
       "        vertical-align: middle;\n",
       "    }\n",
       "\n",
       "    .dataframe tbody tr th {\n",
       "        vertical-align: top;\n",
       "    }\n",
       "\n",
       "    .dataframe thead th {\n",
       "        text-align: right;\n",
       "    }\n",
       "</style>\n",
       "<table border=\"1\" class=\"dataframe\">\n",
       "  <thead>\n",
       "    <tr style=\"text-align: right;\">\n",
       "      <th></th>\n",
       "      <th>Id</th>\n",
       "      <th>Probability</th>\n",
       "    </tr>\n",
       "  </thead>\n",
       "  <tbody>\n",
       "    <tr>\n",
       "      <th>0</th>\n",
       "      <td>1</td>\n",
       "      <td>0.054040</td>\n",
       "    </tr>\n",
       "    <tr>\n",
       "      <th>1</th>\n",
       "      <td>2</td>\n",
       "      <td>0.045438</td>\n",
       "    </tr>\n",
       "    <tr>\n",
       "      <th>2</th>\n",
       "      <td>3</td>\n",
       "      <td>0.011490</td>\n",
       "    </tr>\n",
       "    <tr>\n",
       "      <th>3</th>\n",
       "      <td>4</td>\n",
       "      <td>0.087912</td>\n",
       "    </tr>\n",
       "    <tr>\n",
       "      <th>4</th>\n",
       "      <td>5</td>\n",
       "      <td>0.119420</td>\n",
       "    </tr>\n",
       "  </tbody>\n",
       "</table>\n",
       "</div>"
      ],
      "text/plain": [
       "   Id  Probability\n",
       "0   1     0.054040\n",
       "1   2     0.045438\n",
       "2   3     0.011490\n",
       "3   4     0.087912\n",
       "4   5     0.119420"
      ]
     },
     "execution_count": 208,
     "metadata": {},
     "output_type": "execute_result"
    }
   ],
   "source": [
    "res = SEARCH.predict_proba(test)[:,1]\n",
    "sampleEntry[\"Probability\"]=res\n",
    "sampleEntry.head()"
   ]
  },
  {
   "cell_type": "code",
   "execution_count": 209,
   "metadata": {},
   "outputs": [],
   "source": [
    "sampleEntry.to_csv(\"submission.csv\",index=False)"
   ]
  },
  {
   "cell_type": "markdown",
   "metadata": {},
   "source": [
    "### 6) Answers\n",
    "- Tell us how you validate your model, which, and why you chose such evaluation technique(s).\n",
    "I used different metrics to validate the model\n",
    "The goal is to minimize both the empirical risk and the generalization error. It means that we want to minimize the probability of the misclassification error over the of training set while ensure a good predictive power on unseen data. We need to check if the model “overfits” or “underfits”, so we have to take into account the bias-variance tradeoff. In this binary classification, the classes are a bit unbalanced so we need to be careful in our choice of metrics.\n",
    "\n",
    "- What is AUC? Why do you think AUC was used as the evaluation metric for such a problem? What are other metrics that you think would also be suitable for this competition?\n",
    "AUC or area under the curve (the ROC curve) is a performance measurement for the classification problems at various threshold settings. ROC is a probability curve and AUC represents the degree or measure of separability or how much the model is capable of distinguishing between classes. Higher the AUC, the better the model is at distinguishing between persons with risk and no risk.\n",
    "\n",
    "I used other metrics surch as F1, precision, recall and confusion matrix (easy to read with 2 classes only)\n",
    "Depending on the business objective, we may change the threshold to improve either recall (less false negatives: we will spot high risk persons better but we will increase the number of false positives) or either precision (less false positives: the bank is willing to take more risks maybe to improve the customer service)\n",
    "\n",
    "- What insight(s) do you have from your model? What is your preliminary analysis of the given dataset?\n",
    "We noticed that the data is unbalanced, a lot od outliers, some correlated variables\n",
    "\n",
    "- Can you get into the top 100 of the private leaderboard, or even higher?\n",
    "second submission:\n",
    "private score: 0.86767\n",
    "public score: 0.86136"
   ]
  },
  {
   "cell_type": "code",
   "execution_count": null,
   "metadata": {},
   "outputs": [],
   "source": []
  }
 ],
 "metadata": {
  "kernelspec": {
   "display_name": "Python 3",
   "language": "python",
   "name": "python3"
  },
  "language_info": {
   "codemirror_mode": {
    "name": "ipython",
    "version": 3
   },
   "file_extension": ".py",
   "mimetype": "text/x-python",
   "name": "python",
   "nbconvert_exporter": "python",
   "pygments_lexer": "ipython3",
   "version": "3.8.5"
  }
 },
 "nbformat": 4,
 "nbformat_minor": 4
}
